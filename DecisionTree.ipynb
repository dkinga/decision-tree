{
 "cells": [
  {
   "cell_type": "code",
   "execution_count": 393,
   "metadata": {},
   "outputs": [],
   "source": [
    "import pandas as pd\n",
    "import numpy as np\n",
    "\n",
    "import matplotlib.pyplot as plt\n",
    "%matplotlib inline\n",
    "\n",
    "pd.set_option('display.max_columns', 50) "
   ]
  },
  {
   "cell_type": "markdown",
   "metadata": {},
   "source": [
    "# Attribute Information:\n",
    "------------------------\n",
    "1. age\n",
    "2. sex\n",
    "3. chest pain type (4 values)\n",
    "4. resting blood pressure\n",
    "5. serum cholestoral in mg/dl\n",
    "6. fasting blood sugar > 120 mg/dl\n",
    "7. resting electrocardiographic results (values 0,1,2)   (one-hot encoding??)\n",
    "8. maximum heart rate achieved\n",
    "9. exercise induced angina\n",
    "10. oldpeak = ST depression induced by exercise relative to rest\n",
    "11. the slope of the peak exercise ST segment\n",
    "12. number of major vessels (0-3) colored by flourosopy    (one-hot encoding??)\n",
    "13. thal: 3 = normal; 6 = fixed defect; 7 = reversable defect      (one-hot encoding??)\n",
    "\n",
    "## Variable to be predicted \n",
    "------------------------ \n",
    "Absence (1) or presence (2) of heart disease "
   ]
  },
  {
   "cell_type": "markdown",
   "metadata": {},
   "source": [
    "## Load dataset"
   ]
  },
  {
   "cell_type": "code",
   "execution_count": 2,
   "metadata": {},
   "outputs": [
    {
     "data": {
      "text/html": [
       "<div>\n",
       "<style scoped>\n",
       "    .dataframe tbody tr th:only-of-type {\n",
       "        vertical-align: middle;\n",
       "    }\n",
       "\n",
       "    .dataframe tbody tr th {\n",
       "        vertical-align: top;\n",
       "    }\n",
       "\n",
       "    .dataframe thead th {\n",
       "        text-align: right;\n",
       "    }\n",
       "</style>\n",
       "<table border=\"1\" class=\"dataframe\">\n",
       "  <thead>\n",
       "    <tr style=\"text-align: right;\">\n",
       "      <th></th>\n",
       "      <th>x_0</th>\n",
       "      <th>x_1</th>\n",
       "      <th>x_2</th>\n",
       "      <th>x_3</th>\n",
       "      <th>x_4</th>\n",
       "      <th>x_5</th>\n",
       "      <th>x_6</th>\n",
       "      <th>x_7</th>\n",
       "      <th>x_8</th>\n",
       "      <th>x_9</th>\n",
       "      <th>x_10</th>\n",
       "      <th>x_11</th>\n",
       "      <th>x_12</th>\n",
       "      <th>target</th>\n",
       "    </tr>\n",
       "  </thead>\n",
       "  <tbody>\n",
       "    <tr>\n",
       "      <th>0</th>\n",
       "      <td>70.0</td>\n",
       "      <td>1.0</td>\n",
       "      <td>4.0</td>\n",
       "      <td>130.0</td>\n",
       "      <td>322.0</td>\n",
       "      <td>0.0</td>\n",
       "      <td>2.0</td>\n",
       "      <td>109.0</td>\n",
       "      <td>0.0</td>\n",
       "      <td>2.4</td>\n",
       "      <td>2.0</td>\n",
       "      <td>3.0</td>\n",
       "      <td>3.0</td>\n",
       "      <td>2</td>\n",
       "    </tr>\n",
       "    <tr>\n",
       "      <th>1</th>\n",
       "      <td>67.0</td>\n",
       "      <td>0.0</td>\n",
       "      <td>3.0</td>\n",
       "      <td>115.0</td>\n",
       "      <td>564.0</td>\n",
       "      <td>0.0</td>\n",
       "      <td>2.0</td>\n",
       "      <td>160.0</td>\n",
       "      <td>0.0</td>\n",
       "      <td>1.6</td>\n",
       "      <td>2.0</td>\n",
       "      <td>0.0</td>\n",
       "      <td>7.0</td>\n",
       "      <td>1</td>\n",
       "    </tr>\n",
       "    <tr>\n",
       "      <th>2</th>\n",
       "      <td>57.0</td>\n",
       "      <td>1.0</td>\n",
       "      <td>2.0</td>\n",
       "      <td>124.0</td>\n",
       "      <td>261.0</td>\n",
       "      <td>0.0</td>\n",
       "      <td>0.0</td>\n",
       "      <td>141.0</td>\n",
       "      <td>0.0</td>\n",
       "      <td>0.3</td>\n",
       "      <td>1.0</td>\n",
       "      <td>0.0</td>\n",
       "      <td>7.0</td>\n",
       "      <td>2</td>\n",
       "    </tr>\n",
       "    <tr>\n",
       "      <th>3</th>\n",
       "      <td>64.0</td>\n",
       "      <td>1.0</td>\n",
       "      <td>4.0</td>\n",
       "      <td>128.0</td>\n",
       "      <td>263.0</td>\n",
       "      <td>0.0</td>\n",
       "      <td>0.0</td>\n",
       "      <td>105.0</td>\n",
       "      <td>1.0</td>\n",
       "      <td>0.2</td>\n",
       "      <td>2.0</td>\n",
       "      <td>1.0</td>\n",
       "      <td>7.0</td>\n",
       "      <td>1</td>\n",
       "    </tr>\n",
       "    <tr>\n",
       "      <th>4</th>\n",
       "      <td>74.0</td>\n",
       "      <td>0.0</td>\n",
       "      <td>2.0</td>\n",
       "      <td>120.0</td>\n",
       "      <td>269.0</td>\n",
       "      <td>0.0</td>\n",
       "      <td>2.0</td>\n",
       "      <td>121.0</td>\n",
       "      <td>1.0</td>\n",
       "      <td>0.2</td>\n",
       "      <td>1.0</td>\n",
       "      <td>1.0</td>\n",
       "      <td>3.0</td>\n",
       "      <td>1</td>\n",
       "    </tr>\n",
       "  </tbody>\n",
       "</table>\n",
       "</div>"
      ],
      "text/plain": [
       "    x_0  x_1  x_2    x_3    x_4  x_5  x_6    x_7  x_8  x_9  x_10  x_11  x_12  \\\n",
       "0  70.0  1.0  4.0  130.0  322.0  0.0  2.0  109.0  0.0  2.4   2.0   3.0   3.0   \n",
       "1  67.0  0.0  3.0  115.0  564.0  0.0  2.0  160.0  0.0  1.6   2.0   0.0   7.0   \n",
       "2  57.0  1.0  2.0  124.0  261.0  0.0  0.0  141.0  0.0  0.3   1.0   0.0   7.0   \n",
       "3  64.0  1.0  4.0  128.0  263.0  0.0  0.0  105.0  1.0  0.2   2.0   1.0   7.0   \n",
       "4  74.0  0.0  2.0  120.0  269.0  0.0  2.0  121.0  1.0  0.2   1.0   1.0   3.0   \n",
       "\n",
       "   target  \n",
       "0       2  \n",
       "1       1  \n",
       "2       2  \n",
       "3       1  \n",
       "4       1  "
      ]
     },
     "execution_count": 2,
     "metadata": {},
     "output_type": "execute_result"
    }
   ],
   "source": [
    "colnames = ['x_' + str(n) for n in range(13)]\n",
    "colnames += ['target']\n",
    "\n",
    "df = pd.read_csv('heart.csv', sep=' ', names=colnames)\n",
    "df.head()"
   ]
  },
  {
   "cell_type": "markdown",
   "metadata": {},
   "source": [
    "## Describe dataset"
   ]
  },
  {
   "cell_type": "code",
   "execution_count": 3,
   "metadata": {},
   "outputs": [
    {
     "name": "stdout",
     "output_type": "stream",
     "text": [
      "Checking for null:\n",
      "<class 'pandas.core.frame.DataFrame'>\n",
      "RangeIndex: 270 entries, 0 to 269\n",
      "Data columns (total 14 columns):\n",
      "x_0       270 non-null float64\n",
      "x_1       270 non-null float64\n",
      "x_2       270 non-null float64\n",
      "x_3       270 non-null float64\n",
      "x_4       270 non-null float64\n",
      "x_5       270 non-null float64\n",
      "x_6       270 non-null float64\n",
      "x_7       270 non-null float64\n",
      "x_8       270 non-null float64\n",
      "x_9       270 non-null float64\n",
      "x_10      270 non-null float64\n",
      "x_11      270 non-null float64\n",
      "x_12      270 non-null float64\n",
      "target    270 non-null int64\n",
      "dtypes: float64(13), int64(1)\n",
      "memory usage: 29.6 KB\n",
      "None\n",
      "\n",
      " Value counts for target:\n"
     ]
    },
    {
     "data": {
      "text/plain": [
       "1    150\n",
       "2    120\n",
       "Name: target, dtype: int64"
      ]
     },
     "execution_count": 3,
     "metadata": {},
     "output_type": "execute_result"
    }
   ],
   "source": [
    "print(\"Checking for null:\")\n",
    "print(df.info())\n",
    "\n",
    "print(\"\\n Value counts for target:\")\n",
    "df['target'].value_counts()"
   ]
  },
  {
   "cell_type": "code",
   "execution_count": 4,
   "metadata": {},
   "outputs": [
    {
     "data": {
      "text/html": [
       "<div>\n",
       "<style scoped>\n",
       "    .dataframe tbody tr th:only-of-type {\n",
       "        vertical-align: middle;\n",
       "    }\n",
       "\n",
       "    .dataframe tbody tr th {\n",
       "        vertical-align: top;\n",
       "    }\n",
       "\n",
       "    .dataframe thead th {\n",
       "        text-align: right;\n",
       "    }\n",
       "</style>\n",
       "<table border=\"1\" class=\"dataframe\">\n",
       "  <thead>\n",
       "    <tr style=\"text-align: right;\">\n",
       "      <th></th>\n",
       "      <th>x_0</th>\n",
       "      <th>x_1</th>\n",
       "      <th>x_2</th>\n",
       "      <th>x_3</th>\n",
       "      <th>x_4</th>\n",
       "      <th>x_5</th>\n",
       "      <th>x_6</th>\n",
       "      <th>x_7</th>\n",
       "      <th>x_8</th>\n",
       "      <th>x_9</th>\n",
       "      <th>x_10</th>\n",
       "      <th>x_11</th>\n",
       "      <th>x_12</th>\n",
       "      <th>target</th>\n",
       "    </tr>\n",
       "  </thead>\n",
       "  <tbody>\n",
       "    <tr>\n",
       "      <th>count</th>\n",
       "      <td>270.000000</td>\n",
       "      <td>270.000000</td>\n",
       "      <td>270.000000</td>\n",
       "      <td>270.000000</td>\n",
       "      <td>270.000000</td>\n",
       "      <td>270.000000</td>\n",
       "      <td>270.000000</td>\n",
       "      <td>270.000000</td>\n",
       "      <td>270.000000</td>\n",
       "      <td>270.00000</td>\n",
       "      <td>270.000000</td>\n",
       "      <td>270.000000</td>\n",
       "      <td>270.000000</td>\n",
       "      <td>270.000000</td>\n",
       "    </tr>\n",
       "    <tr>\n",
       "      <th>mean</th>\n",
       "      <td>54.433333</td>\n",
       "      <td>0.677778</td>\n",
       "      <td>3.174074</td>\n",
       "      <td>131.344444</td>\n",
       "      <td>249.659259</td>\n",
       "      <td>0.148148</td>\n",
       "      <td>1.022222</td>\n",
       "      <td>149.677778</td>\n",
       "      <td>0.329630</td>\n",
       "      <td>1.05000</td>\n",
       "      <td>1.585185</td>\n",
       "      <td>0.670370</td>\n",
       "      <td>4.696296</td>\n",
       "      <td>1.444444</td>\n",
       "    </tr>\n",
       "    <tr>\n",
       "      <th>std</th>\n",
       "      <td>9.109067</td>\n",
       "      <td>0.468195</td>\n",
       "      <td>0.950090</td>\n",
       "      <td>17.861608</td>\n",
       "      <td>51.686237</td>\n",
       "      <td>0.355906</td>\n",
       "      <td>0.997891</td>\n",
       "      <td>23.165717</td>\n",
       "      <td>0.470952</td>\n",
       "      <td>1.14521</td>\n",
       "      <td>0.614390</td>\n",
       "      <td>0.943896</td>\n",
       "      <td>1.940659</td>\n",
       "      <td>0.497827</td>\n",
       "    </tr>\n",
       "    <tr>\n",
       "      <th>min</th>\n",
       "      <td>29.000000</td>\n",
       "      <td>0.000000</td>\n",
       "      <td>1.000000</td>\n",
       "      <td>94.000000</td>\n",
       "      <td>126.000000</td>\n",
       "      <td>0.000000</td>\n",
       "      <td>0.000000</td>\n",
       "      <td>71.000000</td>\n",
       "      <td>0.000000</td>\n",
       "      <td>0.00000</td>\n",
       "      <td>1.000000</td>\n",
       "      <td>0.000000</td>\n",
       "      <td>3.000000</td>\n",
       "      <td>1.000000</td>\n",
       "    </tr>\n",
       "    <tr>\n",
       "      <th>25%</th>\n",
       "      <td>48.000000</td>\n",
       "      <td>0.000000</td>\n",
       "      <td>3.000000</td>\n",
       "      <td>120.000000</td>\n",
       "      <td>213.000000</td>\n",
       "      <td>0.000000</td>\n",
       "      <td>0.000000</td>\n",
       "      <td>133.000000</td>\n",
       "      <td>0.000000</td>\n",
       "      <td>0.00000</td>\n",
       "      <td>1.000000</td>\n",
       "      <td>0.000000</td>\n",
       "      <td>3.000000</td>\n",
       "      <td>1.000000</td>\n",
       "    </tr>\n",
       "    <tr>\n",
       "      <th>50%</th>\n",
       "      <td>55.000000</td>\n",
       "      <td>1.000000</td>\n",
       "      <td>3.000000</td>\n",
       "      <td>130.000000</td>\n",
       "      <td>245.000000</td>\n",
       "      <td>0.000000</td>\n",
       "      <td>2.000000</td>\n",
       "      <td>153.500000</td>\n",
       "      <td>0.000000</td>\n",
       "      <td>0.80000</td>\n",
       "      <td>2.000000</td>\n",
       "      <td>0.000000</td>\n",
       "      <td>3.000000</td>\n",
       "      <td>1.000000</td>\n",
       "    </tr>\n",
       "    <tr>\n",
       "      <th>75%</th>\n",
       "      <td>61.000000</td>\n",
       "      <td>1.000000</td>\n",
       "      <td>4.000000</td>\n",
       "      <td>140.000000</td>\n",
       "      <td>280.000000</td>\n",
       "      <td>0.000000</td>\n",
       "      <td>2.000000</td>\n",
       "      <td>166.000000</td>\n",
       "      <td>1.000000</td>\n",
       "      <td>1.60000</td>\n",
       "      <td>2.000000</td>\n",
       "      <td>1.000000</td>\n",
       "      <td>7.000000</td>\n",
       "      <td>2.000000</td>\n",
       "    </tr>\n",
       "    <tr>\n",
       "      <th>max</th>\n",
       "      <td>77.000000</td>\n",
       "      <td>1.000000</td>\n",
       "      <td>4.000000</td>\n",
       "      <td>200.000000</td>\n",
       "      <td>564.000000</td>\n",
       "      <td>1.000000</td>\n",
       "      <td>2.000000</td>\n",
       "      <td>202.000000</td>\n",
       "      <td>1.000000</td>\n",
       "      <td>6.20000</td>\n",
       "      <td>3.000000</td>\n",
       "      <td>3.000000</td>\n",
       "      <td>7.000000</td>\n",
       "      <td>2.000000</td>\n",
       "    </tr>\n",
       "  </tbody>\n",
       "</table>\n",
       "</div>"
      ],
      "text/plain": [
       "              x_0         x_1         x_2         x_3         x_4         x_5  \\\n",
       "count  270.000000  270.000000  270.000000  270.000000  270.000000  270.000000   \n",
       "mean    54.433333    0.677778    3.174074  131.344444  249.659259    0.148148   \n",
       "std      9.109067    0.468195    0.950090   17.861608   51.686237    0.355906   \n",
       "min     29.000000    0.000000    1.000000   94.000000  126.000000    0.000000   \n",
       "25%     48.000000    0.000000    3.000000  120.000000  213.000000    0.000000   \n",
       "50%     55.000000    1.000000    3.000000  130.000000  245.000000    0.000000   \n",
       "75%     61.000000    1.000000    4.000000  140.000000  280.000000    0.000000   \n",
       "max     77.000000    1.000000    4.000000  200.000000  564.000000    1.000000   \n",
       "\n",
       "              x_6         x_7         x_8        x_9        x_10        x_11  \\\n",
       "count  270.000000  270.000000  270.000000  270.00000  270.000000  270.000000   \n",
       "mean     1.022222  149.677778    0.329630    1.05000    1.585185    0.670370   \n",
       "std      0.997891   23.165717    0.470952    1.14521    0.614390    0.943896   \n",
       "min      0.000000   71.000000    0.000000    0.00000    1.000000    0.000000   \n",
       "25%      0.000000  133.000000    0.000000    0.00000    1.000000    0.000000   \n",
       "50%      2.000000  153.500000    0.000000    0.80000    2.000000    0.000000   \n",
       "75%      2.000000  166.000000    1.000000    1.60000    2.000000    1.000000   \n",
       "max      2.000000  202.000000    1.000000    6.20000    3.000000    3.000000   \n",
       "\n",
       "             x_12      target  \n",
       "count  270.000000  270.000000  \n",
       "mean     4.696296    1.444444  \n",
       "std      1.940659    0.497827  \n",
       "min      3.000000    1.000000  \n",
       "25%      3.000000    1.000000  \n",
       "50%      3.000000    1.000000  \n",
       "75%      7.000000    2.000000  \n",
       "max      7.000000    2.000000  "
      ]
     },
     "execution_count": 4,
     "metadata": {},
     "output_type": "execute_result"
    }
   ],
   "source": [
    "df.describe()"
   ]
  },
  {
   "cell_type": "code",
   "execution_count": 5,
   "metadata": {},
   "outputs": [],
   "source": [
    "y = df.iloc[:, df.columns == 'target']\n",
    "X = df.iloc[:, df.columns != 'target']"
   ]
  },
  {
   "cell_type": "code",
   "execution_count": 68,
   "metadata": {
    "scrolled": true
   },
   "outputs": [
    {
     "data": {
      "text/html": [
       "<div>\n",
       "<style scoped>\n",
       "    .dataframe tbody tr th:only-of-type {\n",
       "        vertical-align: middle;\n",
       "    }\n",
       "\n",
       "    .dataframe tbody tr th {\n",
       "        vertical-align: top;\n",
       "    }\n",
       "\n",
       "    .dataframe thead th {\n",
       "        text-align: right;\n",
       "    }\n",
       "</style>\n",
       "<table border=\"1\" class=\"dataframe\">\n",
       "  <thead>\n",
       "    <tr style=\"text-align: right;\">\n",
       "      <th></th>\n",
       "      <th>x_0</th>\n",
       "      <th>x_3</th>\n",
       "      <th>x_4</th>\n",
       "      <th>x_7</th>\n",
       "      <th>x_9</th>\n",
       "    </tr>\n",
       "  </thead>\n",
       "  <tbody>\n",
       "    <tr>\n",
       "      <th>0</th>\n",
       "      <td>70.0</td>\n",
       "      <td>130.0</td>\n",
       "      <td>322.0</td>\n",
       "      <td>109.0</td>\n",
       "      <td>2.4</td>\n",
       "    </tr>\n",
       "    <tr>\n",
       "      <th>1</th>\n",
       "      <td>67.0</td>\n",
       "      <td>115.0</td>\n",
       "      <td>564.0</td>\n",
       "      <td>160.0</td>\n",
       "      <td>1.6</td>\n",
       "    </tr>\n",
       "    <tr>\n",
       "      <th>2</th>\n",
       "      <td>57.0</td>\n",
       "      <td>124.0</td>\n",
       "      <td>261.0</td>\n",
       "      <td>141.0</td>\n",
       "      <td>0.3</td>\n",
       "    </tr>\n",
       "    <tr>\n",
       "      <th>3</th>\n",
       "      <td>64.0</td>\n",
       "      <td>128.0</td>\n",
       "      <td>263.0</td>\n",
       "      <td>105.0</td>\n",
       "      <td>0.2</td>\n",
       "    </tr>\n",
       "    <tr>\n",
       "      <th>4</th>\n",
       "      <td>74.0</td>\n",
       "      <td>120.0</td>\n",
       "      <td>269.0</td>\n",
       "      <td>121.0</td>\n",
       "      <td>0.2</td>\n",
       "    </tr>\n",
       "  </tbody>\n",
       "</table>\n",
       "</div>"
      ],
      "text/plain": [
       "    x_0    x_3    x_4    x_7  x_9\n",
       "0  70.0  130.0  322.0  109.0  2.4\n",
       "1  67.0  115.0  564.0  160.0  1.6\n",
       "2  57.0  124.0  261.0  141.0  0.3\n",
       "3  64.0  128.0  263.0  105.0  0.2\n",
       "4  74.0  120.0  269.0  121.0  0.2"
      ]
     },
     "execution_count": 68,
     "metadata": {},
     "output_type": "execute_result"
    }
   ],
   "source": [
    "categorical_colnames = ['x_1', 'x_2', 'x_5', 'x_6', 'x_8', 'x_10', 'x_11', 'x_12']\n",
    "categorical = X[categorical_colnames]\n",
    "continous = X.loc[:, ~X.columns.isin(categorical_colnames)]\n",
    "continous.head()"
   ]
  },
  {
   "cell_type": "markdown",
   "metadata": {},
   "source": [
    "### Zamiana zmiennych ciągłych na zmienne kategoryczne ze względu na kwartyle"
   ]
  },
  {
   "cell_type": "code",
   "execution_count": 61,
   "metadata": {},
   "outputs": [],
   "source": [
    "cat = pd.DataFrame(index=range(len(df)))\n",
    "\n",
    "for n, col in enumerate(continous):\n",
    "    for i in range(len(df)):\n",
    "        cat[col] = pd.qcut(continous[col], 4, duplicates='drop')"
   ]
  },
  {
   "cell_type": "code",
   "execution_count": 73,
   "metadata": {},
   "outputs": [],
   "source": [
    "X = pd.concat([cat, categorical], sort=False, axis=1)"
   ]
  },
  {
   "cell_type": "markdown",
   "metadata": {},
   "source": [
    "## Eksploracyjna analiza danych"
   ]
  },
  {
   "cell_type": "code",
   "execution_count": 409,
   "metadata": {},
   "outputs": [
    {
     "name": "stdout",
     "output_type": "stream",
     "text": [
      "Rozkład wieku badanych osób:\n",
      "Wiek              Liczba osób\n"
     ]
    },
    {
     "data": {
      "text/plain": [
       "(28.999, 48.0]    74\n",
       "(55.0, 61.0]      67\n",
       "(61.0, 77.0]      65\n",
       "(48.0, 55.0]      64\n",
       "Name: x_0, dtype: int64"
      ]
     },
     "execution_count": 409,
     "metadata": {},
     "output_type": "execute_result"
    }
   ],
   "source": [
    "print('Rozkład wieku badanych osób:')\n",
    "print('Wiek             ', 'Liczba osób')\n",
    "X.x_0.value_counts()"
   ]
  },
  {
   "cell_type": "code",
   "execution_count": 424,
   "metadata": {},
   "outputs": [
    {
     "data": {
      "image/png": "[encoded data removed]",
      "text/plain": [
       "<Figure size 864x576 with 1 Axes>"
      ]
     },
     "metadata": {
      "needs_background": "light"
     },
     "output_type": "display_data"
    }
   ],
   "source": [
    "plt.figure(figsize=(12,8))\n",
    "X.x_2.hist()\n",
    "plt.title('Typ bólu w klatce piersiowej', fontsize=18)\n",
    "plt.yticks(fontsize=12)\n",
    "plt.xticks(fontsize=12)3\n",
    "plt.ylabel('Częstość występowania', fontsize=15)\n",
    "plt.xlabel('Rodzaj bólu', fontsize=15)\n",
    "plt.grid(False)\n",
    "plt.show();"
   ]
  },
  {
   "cell_type": "code",
   "execution_count": 430,
   "metadata": {},
   "outputs": [
    {
     "data": {
      "image/png": "[encoded data removed]",
      "text/plain": [
       "<Figure size 864x576 with 1 Axes>"
      ]
     },
     "metadata": {
      "needs_background": "light"
     },
     "output_type": "display_data"
    }
   ],
   "source": [
    "plt.figure(figsize=(12,8))\n",
    "X.x_11.hist()\n",
    "plt.title('Liczba głównych naczyń barwionych za pomocą fluoroskopii', fontsize=18)\n",
    "plt.yticks(fontsize=12)\n",
    "plt.xticks(fontsize=12)\n",
    "plt.ylabel('Częstość występowania', fontsize=15)\n",
    "plt.xlabel('Liczba naczyń', fontsize=15)\n",
    "plt.grid(False)\n",
    "plt.show();"
   ]
  },
  {
   "cell_type": "markdown",
   "metadata": {},
   "source": [
    "## Create Decision Tree"
   ]
  },
  {
   "cell_type": "markdown",
   "metadata": {},
   "source": [
    "Pseudokod:\n",
    "Wejście: zbiór danych z etykietami D\n",
    "1. Drzewo = []\n",
    "2. Jeśli D jest “czysty” (nie zawiera zanieczyszczeń) lub zaszły inne kryteria stopu then\n",
    "zakończ\n",
    "3. Dla każdej cechy a, która należy do D oblicz przyrost informacji\n",
    "4. a_best = najlepszy atrybut według powyższego kryterium\n",
    "5. Drzewo = stwórz węzeł decyzyjny, który sprawdza a_best dla korzenia\n",
    "6. D_v = Stworzony podzbiór z D na podstawie a_best\n",
    "7. Dla każdego D_v:\n",
    "8. Drzewo_v = C4.5(D_v)\n",
    "9. Dołącz Drzewo_v do odpowiedniej gałęzi Drzewa\n",
    "10. Zakończ\n",
    "11. Zwróć drzewo"
   ]
  },
  {
   "cell_type": "code",
   "execution_count": 74,
   "metadata": {},
   "outputs": [],
   "source": [
    "def pure(y):\n",
    "    y = y.iloc[:,0]\n",
    "    return len(y.value_counts()) == 1"
   ]
  },
  {
   "cell_type": "code",
   "execution_count": 75,
   "metadata": {},
   "outputs": [],
   "source": [
    "def entropy(df):\n",
    "    ''' calculate entropy H = − sum: p(i) * log2p(i) of \"a\" '''\n",
    "    entropy = 0\n",
    "    a = df.iloc[:,0]\n",
    "    \n",
    "    # calculate share p(i)\n",
    "    share = a.value_counts() / len(a)\n",
    "    \n",
    "    # calculate entropy\n",
    "    for p in share:\n",
    "        if p != 0.0:\n",
    "            entropy -= p * np.log2(p)\n",
    "            \n",
    "    return entropy"
   ]
  },
  {
   "cell_type": "code",
   "execution_count": 76,
   "metadata": {},
   "outputs": [],
   "source": [
    "def information_gain(y, col):\n",
    "    ''' Calculate information gain I(y,x)=H(y)−[px=0*H(y|x=0) + px=1*H(y|x=1))]'''\n",
    "\n",
    "    H = entropy(y)\n",
    "    \n",
    "    share = col.value_counts() / len(col)\n",
    "    \n",
    "    for v, p in share.iteritems():\n",
    "        H -= p * entropy(y[col == v])\n",
    "    \n",
    "    return H"
   ]
  },
  {
   "cell_type": "code",
   "execution_count": 77,
   "metadata": {},
   "outputs": [],
   "source": [
    "def separate_feature(col): \n",
    "    ''' Separate column by unique value and get indices of them in column '''\n",
    "    \n",
    "    result = {unique_value: (col==unique_value).nonzero()[0] for unique_value in col.unique()}\n",
    "    \n",
    "    return result"
   ]
  },
  {
   "cell_type": "code",
   "execution_count": 124,
   "metadata": {},
   "outputs": [],
   "source": [
    "X = X[['x_0','x_1', 'x_2','x_3','x_4', 'x_5', 'x_6','x_7', 'x_8','x_9', 'x_10', 'x_11', 'x_12']]"
   ]
  },
  {
   "cell_type": "code",
   "execution_count": 84,
   "metadata": {},
   "outputs": [],
   "source": [
    "Tree = []\n",
    "\n",
    "def split_tree(X, y):\n",
    "    # check if dataset is \"pure\"\n",
    "    if pure(y) or len(y) == 0:\n",
    "        return y.values\n",
    "    \n",
    "    ## select feature based on information gain\n",
    "    gain = [information_gain(y, X[feature]) for feature in X]\n",
    "    selected_feature = gain.index(max(gain))\n",
    "\n",
    "    # if there's no gain - return labels\n",
    "    if all(i < 1e-5 for i in gain):\n",
    "        return y.values\n",
    "\n",
    "    ## get indices for each unique value in selected feature\n",
    "    indices = separate_feature(X.iloc[:, selected_feature])\n",
    "    \n",
    "    result_tree = {}\n",
    "    for k, v in indices.items():\n",
    "        x_subset = X.take(v, axis=0)\n",
    "        y_subset = y.take(v, axis=0)\n",
    "\n",
    "        result_tree[\"x_%d = %s\" % (selected_feature, k)] = split_tree(x_subset, y_subset)\n",
    "        \n",
    "    return result_tree\n",
    "    \n",
    "Tree = split_tree(X, y)"
   ]
  },
  {
   "cell_type": "code",
   "execution_count": 372,
   "metadata": {},
   "outputs": [],
   "source": [
    "Tree = []\n",
    "\n",
    "def split_tree(X, y, tree=None):\n",
    "    # check if dataset is \"pure\"\n",
    "    if pure(y) or len(y) == 0:\n",
    "#         print('pure', y.values[0][0])\n",
    "        return y.values[0][0]\n",
    "    \n",
    "    ## select feature based on information gain\n",
    "#     print('zaczynam IG')\n",
    "    gain = [information_gain(y, X[feature]) for feature in X]\n",
    "    selected_feature = gain.index(max(gain))\n",
    "#     print('selected feature u gory', selected_feature)\n",
    "\n",
    "    # if there's no gain - return labels\n",
    "    if all(i < 1e-5 for i in gain):\n",
    "        return y.values[0][0]\n",
    "\n",
    "    ## get indices for each unique value in selected feature\n",
    "    indices = separate_feature(X.iloc[:, selected_feature])\n",
    "    \n",
    "#     result_tree = {}\n",
    "    if tree is None:                    \n",
    "        tree={}\n",
    "        tree[\"x_{}\".format(selected_feature)] = {}\n",
    "    \n",
    "    for k, v in indices.items():\n",
    "        x_subset = X.take(v, axis=0)\n",
    "        y_subset = y.take(v, axis=0)\n",
    "\n",
    "        tree[\"x_{}\".format(selected_feature)][k] = split_tree(x_subset, y_subset)\n",
    "    \n",
    "        \n",
    "    return tree"
   ]
  },
  {
   "cell_type": "markdown",
   "metadata": {},
   "source": [
    "## Podział na zbiór treningowy i testowy"
   ]
  },
  {
   "cell_type": "code",
   "execution_count": null,
   "metadata": {},
   "outputs": [],
   "source": [
    "s = int(len(X)*0.965)\n",
    "\n",
    "X_train = X[:s]\n",
    "X_test = X[s:]\n",
    "\n",
    "y_train = y[:s]\n",
    "y_test = y[s:]"
   ]
  },
  {
   "cell_type": "markdown",
   "metadata": {},
   "source": [
    "## Dopasowanie modelu"
   ]
  },
  {
   "cell_type": "code",
   "execution_count": 373,
   "metadata": {},
   "outputs": [],
   "source": [
    "Tree = split_tree(X_train, y_train)"
   ]
  },
  {
   "cell_type": "code",
   "execution_count": 206,
   "metadata": {},
   "outputs": [
    {
     "name": "stdout",
     "output_type": "stream",
     "text": [
      "{'x_12': {3.0: {'x_2': {1.0: {'x_4': {Interval(125.999, 213.0, closed='right'): 1,\n",
      "                                      Interval(213.0, 245.0, closed='right'): {'x_3': {Interval(130.0, 140.0, closed='right'): {'x_0': {Interval(55.0, 61.0, closed='right'): 2,\n",
      "                                                                                                                                        Interval(61.0, 77.0, closed='right'): 1}},\n",
      "                                                                                       Interval(140.0, 200.0, closed='right'): 1}},\n",
      "                                      Interval(245.0, 280.0, closed='right'): 2,\n",
      "                                      Interval(280.0, 564.0, closed='right'): {'x_0': {Interval(55.0, 61.0, closed='right'): 1,\n",
      "                                                                                       Interval(61.0, 77.0, closed='right'): 2}}}},\n",
      "                        2.0: {'x_0': {Interval(28.999, 48.0, closed='right'): 1,\n",
      "                                      Interval(48.0, 55.0, closed='right'): 1,\n",
      "                                      Interval(55.0, 61.0, closed='right'): {'x_4': {Interval(213.0, 245.0, closed='right'): 1,\n",
      "                                                                                     Interval(280.0, 564.0, closed='right'): {'x_9': {Interval(-0.001, 0.8, closed='right'): 2,\n",
      "                                                                                                                                      Interval(0.8, 1.6, closed='right'): 1,\n",
      "                                                                                                                                      Interval(1.6, 6.2, closed='right'): 2}}}},\n",
      "                                      Interval(61.0, 77.0, closed='right'): 1}},\n",
      "                        3.0: {'x_1': {0.0: 1,\n",
      "                                      1.0: {'x_3': {Interval(93.999, 120.0, closed='right'): {'x_6': {0.0: {'x_7': {Interval(70.999, 133.0, closed='right'): 1,\n",
      "                                                                                                                    Interval(133.0, 153.5, closed='right'): {'x_0': {Interval(28.999, 48.0, closed='right'): 2,\n",
      "                                                                                                                                                                     Interval(48.0, 55.0, closed='right'): 1}},\n",
      "                                                                                                                    Interval(166.0, 202.0, closed='right'): 1}},\n",
      "                                                                                                      2.0: 2}},\n",
      "                                                    Interval(120.0, 130.0, closed='right'): 1,\n",
      "                                                    Interval(130.0, 140.0, closed='right'): {'x_0': {Interval(28.999, 48.0, closed='right'): 1,\n",
      "                                                                                                     Interval(55.0, 61.0, closed='right'): {'x_5': {0.0: 2,\n",
      "                                                                                                                                                    1.0: 1}},\n",
      "                                                                                                     Interval(61.0, 77.0, closed='right'): 2}},\n",
      "                                                    Interval(140.0, 200.0, closed='right'): {'x_0': {Interval(28.999, 48.0, closed='right'): 2,\n",
      "                                                                                                     Interval(55.0, 61.0, closed='right'): 1}}}}}},\n",
      "                        4.0: {'x_11': {0.0: {'x_3': {Interval(93.999, 120.0, closed='right'): {'x_4': {Interval(125.999, 213.0, closed='right'): 1,\n",
      "                                                                                                       Interval(213.0, 245.0, closed='right'): 2,\n",
      "                                                                                                       Interval(245.0, 280.0, closed='right'): 1,\n",
      "                                                                                                       Interval(280.0, 564.0, closed='right'): 1}},\n",
      "                                                     Interval(120.0, 130.0, closed='right'): {'x_0': {Interval(28.999, 48.0, closed='right'): 1,\n",
      "                                                                                                      Interval(48.0, 55.0, closed='right'): 1,\n",
      "                                                                                                      Interval(55.0, 61.0, closed='right'): 2,\n",
      "                                                                                                      Interval(61.0, 77.0, closed='right'): 1}},\n",
      "                                                     Interval(130.0, 140.0, closed='right'): 1,\n",
      "                                                     Interval(140.0, 200.0, closed='right'): {'x_0': {Interval(28.999, 48.0, closed='right'): 1,\n",
      "                                                                                                      Interval(48.0, 55.0, closed='right'): 2,\n",
      "                                                                                                      Interval(55.0, 61.0, closed='right'): 2,\n",
      "                                                                                                      Interval(61.0, 77.0, closed='right'): {'x_4': {Interval(213.0, 245.0, closed='right'): 2,\n",
      "                                                                                                                                                     Interval(280.0, 564.0, closed='right'): 1}}}}}},\n",
      "                                       1.0: {'x_1': {0.0: 1, 1.0: 2}},\n",
      "                                       2.0: {'x_6': {0.0: {'x_4': {Interval(213.0, 245.0, closed='right'): 1,\n",
      "                                                                   Interval(245.0, 280.0, closed='right'): 2,\n",
      "                                                                   Interval(280.0, 564.0, closed='right'): 1}},\n",
      "                                                     2.0: 2}},\n",
      "                                       3.0: 2}}}},\n",
      "          6.0: {'x_11': {0.0: {'x_4': {Interval(125.999, 213.0, closed='right'): 1,\n",
      "                                       Interval(213.0, 245.0, closed='right'): 1,\n",
      "                                       Interval(280.0, 564.0, closed='right'): 2}},\n",
      "                         1.0: 2,\n",
      "                         2.0: 2,\n",
      "                         3.0: 2}},\n",
      "          7.0: {'x_2': {1.0: {'x_4': {Interval(125.999, 213.0, closed='right'): 1,\n",
      "                                      Interval(213.0, 245.0, closed='right'): 2,\n",
      "                                      Interval(245.0, 280.0, closed='right'): 1,\n",
      "                                      Interval(280.0, 564.0, closed='right'): {'x_0': {Interval(48.0, 55.0, closed='right'): 1,\n",
      "                                                                                       Interval(55.0, 61.0, closed='right'): 2}}}},\n",
      "                        2.0: {'x_7': {Interval(70.999, 133.0, closed='right'): 2,\n",
      "                                      Interval(133.0, 153.5, closed='right'): 2,\n",
      "                                      Interval(153.5, 166.0, closed='right'): 1,\n",
      "                                      Interval(166.0, 202.0, closed='right'): {'x_4': {Interval(213.0, 245.0, closed='right'): 2,\n",
      "                                                                                       Interval(245.0, 280.0, closed='right'): 1,\n",
      "                                                                                       Interval(280.0, 564.0, closed='right'): 2}}}},\n",
      "                        3.0: {'x_10': {1.0: {'x_9': {Interval(-0.001, 0.8, closed='right'): 1,\n",
      "                                                     Interval(0.8, 1.6, closed='right'): 1,\n",
      "                                                     Interval(1.6, 6.2, closed='right'): 2}},\n",
      "                                       2.0: {'x_11': {0.0: {'x_3': {Interval(93.999, 120.0, closed='right'): 1,\n",
      "                                                                    Interval(120.0, 130.0, closed='right'): 2,\n",
      "                                                                    Interval(140.0, 200.0, closed='right'): 2}},\n",
      "                                                      1.0: 2,\n",
      "                                                      3.0: {'x_3': {Interval(93.999, 120.0, closed='right'): 2,\n",
      "                                                                    Interval(120.0, 130.0, closed='right'): 1,\n",
      "                                                                    Interval(130.0, 140.0, closed='right'): 2}}}},\n",
      "                                       3.0: 1}},\n",
      "                        4.0: {'x_9': {Interval(-0.001, 0.8, closed='right'): {'x_4': {Interval(125.999, 213.0, closed='right'): {'x_7': {Interval(133.0, 153.5, closed='right'): 1,\n",
      "                                                                                                                                         Interval(153.5, 166.0, closed='right'): {'x_0': {Interval(28.999, 48.0, closed='right'): {'x_6': {0.0: 1,\n",
      "                                                                                                                                                                                                                                           2.0: 2}},\n",
      "                                                                                                                                                                                          Interval(55.0, 61.0, closed='right'): 2}},\n",
      "                                                                                                                                         Interval(166.0, 202.0, closed='right'): 1}},\n",
      "                                                                                      Interval(213.0, 245.0, closed='right'): {'x_0': {Interval(28.999, 48.0, closed='right'): 2,\n",
      "                                                                                                                                       Interval(48.0, 55.0, closed='right'): 1,\n",
      "                                                                                                                                       Interval(55.0, 61.0, closed='right'): {'x_3': {Interval(93.999, 120.0, closed='right'): 2,\n",
      "                                                                                                                                                                                      Interval(130.0, 140.0, closed='right'): 1}}}},\n",
      "                                                                                      Interval(245.0, 280.0, closed='right'): {'x_7': {Interval(70.999, 133.0, closed='right'): {'x_0': {Interval(55.0, 61.0, closed='right'): 2,\n",
      "                                                                                                                                                                                         Interval(61.0, 77.0, closed='right'): 1}},\n",
      "                                                                                                                                       Interval(133.0, 153.5, closed='right'): 2,\n",
      "                                                                                                                                       Interval(153.5, 166.0, closed='right'): 2}},\n",
      "                                                                                      Interval(280.0, 564.0, closed='right'): 2}},\n",
      "                                      Interval(0.8, 1.6, closed='right'): 2,\n",
      "                                      Interval(1.6, 6.2, closed='right'): 2}}}}}}\n"
     ]
    }
   ],
   "source": [
    "from pprint import pprint\n",
    "pprint(Tree)"
   ]
  },
  {
   "cell_type": "markdown",
   "metadata": {},
   "source": [
    "#### sprawdzenie kilku pierwszych reguł:"
   ]
  },
  {
   "cell_type": "code",
   "execution_count": 12,
   "metadata": {
    "scrolled": true
   },
   "outputs": [
    {
     "data": {
      "text/html": [
       "<div>\n",
       "<style scoped>\n",
       "    .dataframe tbody tr th:only-of-type {\n",
       "        vertical-align: middle;\n",
       "    }\n",
       "\n",
       "    .dataframe tbody tr th {\n",
       "        vertical-align: top;\n",
       "    }\n",
       "\n",
       "    .dataframe thead th {\n",
       "        text-align: right;\n",
       "    }\n",
       "</style>\n",
       "<table border=\"1\" class=\"dataframe\">\n",
       "  <thead>\n",
       "    <tr style=\"text-align: right;\">\n",
       "      <th></th>\n",
       "      <th>target</th>\n",
       "    </tr>\n",
       "  </thead>\n",
       "  <tbody>\n",
       "    <tr>\n",
       "      <th>60</th>\n",
       "      <td>1</td>\n",
       "    </tr>\n",
       "  </tbody>\n",
       "</table>\n",
       "</div>"
      ],
      "text/plain": [
       "    target\n",
       "60       1"
      ]
     },
     "execution_count": 12,
     "metadata": {},
     "output_type": "execute_result"
    }
   ],
   "source": [
    "y.loc[X[X['x_4'] == 126].index]"
   ]
  },
  {
   "cell_type": "code",
   "execution_count": 13,
   "metadata": {},
   "outputs": [
    {
     "data": {
      "text/html": [
       "<div>\n",
       "<style scoped>\n",
       "    .dataframe tbody tr th:only-of-type {\n",
       "        vertical-align: middle;\n",
       "    }\n",
       "\n",
       "    .dataframe tbody tr th {\n",
       "        vertical-align: top;\n",
       "    }\n",
       "\n",
       "    .dataframe thead th {\n",
       "        text-align: right;\n",
       "    }\n",
       "</style>\n",
       "<table border=\"1\" class=\"dataframe\">\n",
       "  <thead>\n",
       "    <tr style=\"text-align: right;\">\n",
       "      <th></th>\n",
       "      <th>target</th>\n",
       "    </tr>\n",
       "  </thead>\n",
       "  <tbody>\n",
       "    <tr>\n",
       "      <th>100</th>\n",
       "      <td>1</td>\n",
       "    </tr>\n",
       "  </tbody>\n",
       "</table>\n",
       "</div>"
      ],
      "text/plain": [
       "     target\n",
       "100       1"
      ]
     },
     "execution_count": 13,
     "metadata": {},
     "output_type": "execute_result"
    }
   ],
   "source": [
    "y.loc[X[X['x_4'] == 141].index]"
   ]
  },
  {
   "cell_type": "code",
   "execution_count": 14,
   "metadata": {},
   "outputs": [
    {
     "data": {
      "text/html": [
       "<div>\n",
       "<style scoped>\n",
       "    .dataframe tbody tr th:only-of-type {\n",
       "        vertical-align: middle;\n",
       "    }\n",
       "\n",
       "    .dataframe tbody tr th {\n",
       "        vertical-align: top;\n",
       "    }\n",
       "\n",
       "    .dataframe thead th {\n",
       "        text-align: right;\n",
       "    }\n",
       "</style>\n",
       "<table border=\"1\" class=\"dataframe\">\n",
       "  <thead>\n",
       "    <tr style=\"text-align: right;\">\n",
       "      <th></th>\n",
       "      <th>target</th>\n",
       "    </tr>\n",
       "  </thead>\n",
       "  <tbody>\n",
       "    <tr>\n",
       "      <th>15</th>\n",
       "      <td>1</td>\n",
       "    </tr>\n",
       "    <tr>\n",
       "      <th>46</th>\n",
       "      <td>2</td>\n",
       "    </tr>\n",
       "  </tbody>\n",
       "</table>\n",
       "</div>"
      ],
      "text/plain": [
       "    target\n",
       "15       1\n",
       "46       2"
      ]
     },
     "execution_count": 14,
     "metadata": {},
     "output_type": "execute_result"
    }
   ],
   "source": [
    "y.loc[X[X['x_4'] == 149].index]"
   ]
  },
  {
   "cell_type": "code",
   "execution_count": 15,
   "metadata": {},
   "outputs": [
    {
     "data": {
      "text/html": [
       "<div>\n",
       "<style scoped>\n",
       "    .dataframe tbody tr th:only-of-type {\n",
       "        vertical-align: middle;\n",
       "    }\n",
       "\n",
       "    .dataframe tbody tr th {\n",
       "        vertical-align: top;\n",
       "    }\n",
       "\n",
       "    .dataframe thead th {\n",
       "        text-align: right;\n",
       "    }\n",
       "</style>\n",
       "<table border=\"1\" class=\"dataframe\">\n",
       "  <thead>\n",
       "    <tr style=\"text-align: right;\">\n",
       "      <th></th>\n",
       "      <th>x_0</th>\n",
       "      <th>x_1</th>\n",
       "      <th>x_2</th>\n",
       "      <th>x_3</th>\n",
       "      <th>x_4</th>\n",
       "      <th>x_5</th>\n",
       "      <th>x_6</th>\n",
       "      <th>x_7</th>\n",
       "      <th>x_8</th>\n",
       "      <th>x_9</th>\n",
       "      <th>x_10</th>\n",
       "      <th>x_11</th>\n",
       "      <th>x_12</th>\n",
       "    </tr>\n",
       "  </thead>\n",
       "  <tbody>\n",
       "    <tr>\n",
       "      <th>15</th>\n",
       "      <td>71.0</td>\n",
       "      <td>0.0</td>\n",
       "      <td>4.0</td>\n",
       "      <td>112.0</td>\n",
       "      <td>149.0</td>\n",
       "      <td>0.0</td>\n",
       "      <td>0.0</td>\n",
       "      <td>125.0</td>\n",
       "      <td>0.0</td>\n",
       "      <td>1.6</td>\n",
       "      <td>2.0</td>\n",
       "      <td>0.0</td>\n",
       "      <td>3.0</td>\n",
       "    </tr>\n",
       "    <tr>\n",
       "      <th>46</th>\n",
       "      <td>49.0</td>\n",
       "      <td>1.0</td>\n",
       "      <td>3.0</td>\n",
       "      <td>118.0</td>\n",
       "      <td>149.0</td>\n",
       "      <td>0.0</td>\n",
       "      <td>2.0</td>\n",
       "      <td>126.0</td>\n",
       "      <td>0.0</td>\n",
       "      <td>0.8</td>\n",
       "      <td>1.0</td>\n",
       "      <td>3.0</td>\n",
       "      <td>3.0</td>\n",
       "    </tr>\n",
       "  </tbody>\n",
       "</table>\n",
       "</div>"
      ],
      "text/plain": [
       "     x_0  x_1  x_2    x_3    x_4  x_5  x_6    x_7  x_8  x_9  x_10  x_11  x_12\n",
       "15  71.0  0.0  4.0  112.0  149.0  0.0  0.0  125.0  0.0  1.6   2.0   0.0   3.0\n",
       "46  49.0  1.0  3.0  118.0  149.0  0.0  2.0  126.0  0.0  0.8   1.0   3.0   3.0"
      ]
     },
     "execution_count": 15,
     "metadata": {},
     "output_type": "execute_result"
    }
   ],
   "source": [
    "X[X['x_4'] == 149]"
   ]
  },
  {
   "cell_type": "code",
   "execution_count": null,
   "metadata": {},
   "outputs": [],
   "source": []
  },
  {
   "cell_type": "markdown",
   "metadata": {},
   "source": [
    "## Predykcja na zbiorze testowym"
   ]
  },
  {
   "cell_type": "code",
   "execution_count": 366,
   "metadata": {},
   "outputs": [],
   "source": [
    "def predict(obs,tree):\n",
    "    for selected_feature in tree.keys():        \n",
    "        k = obs[selected_feature]\n",
    "        tree = tree[selected_feature][k]\n",
    "        prediction = 0\n",
    "            \n",
    "        if type(tree) is dict:\n",
    "            prediction = predict(obs, tree)\n",
    "        else:\n",
    "            prediction = tree\n",
    "            break;                            \n",
    "\n",
    "    return prediction"
   ]
  },
  {
   "cell_type": "code",
   "execution_count": 374,
   "metadata": {},
   "outputs": [
    {
     "name": "stdout",
     "output_type": "stream",
     "text": [
      "y_real 1\n",
      "y_hat 1\n",
      "y_real 2\n",
      "y_hat 2\n",
      "y_real 2\n",
      "y_hat 1\n",
      "y_real 1\n",
      "y_hat 1\n",
      "y_real 2\n",
      "y_hat 2\n",
      "y_real 1\n",
      "y_hat 1\n",
      "y_real 1\n",
      "y_hat 2\n",
      "y_real 1\n",
      "y_hat 2\n",
      "y_real 1\n",
      "y_hat 1\n",
      "y_real 2\n",
      "y_hat 2\n"
     ]
    }
   ],
   "source": [
    "predicted = []\n",
    "real = []\n",
    "\n",
    "for i, item in X_test.iterrows():\n",
    "    n = item.name\n",
    "    y_real = y.iloc[n]\n",
    "    print('y_real', y_real[0])\n",
    "    y_hat = predict(item, Tree)\n",
    "    print('y_hat', y_hat)\n",
    "    \n",
    "    predicted.append(y_hat)\n",
    "    real.append(y_real[0])"
   ]
  },
  {
   "cell_type": "code",
   "execution_count": 387,
   "metadata": {},
   "outputs": [
    {
     "data": {
      "text/plain": [
       "array([[4, 2],\n",
       "       [1, 3]])"
      ]
     },
     "execution_count": 387,
     "metadata": {},
     "output_type": "execute_result"
    }
   ],
   "source": [
    "from sklearn.metrics import confusion_matrix\n",
    "\n",
    "m_pomylek = confusion_matrix(real, predicted)\n",
    "m_pomylek"
   ]
  },
  {
   "cell_type": "code",
   "execution_count": 369,
   "metadata": {},
   "outputs": [
    {
     "name": "stdout",
     "output_type": "stream",
     "text": [
      "Skuteczność:  0.7\n"
     ]
    }
   ],
   "source": [
    "suma = 0\n",
    "for i in range(len(m_pomylek)):\n",
    "    suma += m_pomylek[i][i]\n",
    "    \n",
    "print(\"Skuteczność: \",suma/sum(sum(m_pomylek))) "
   ]
  },
  {
   "cell_type": "code",
   "execution_count": 389,
   "metadata": {},
   "outputs": [
    {
     "data": {
      "text/plain": [
       "[1, 2, 2, 1, 2, 1, 1, 1, 1, 2]"
      ]
     },
     "execution_count": 389,
     "metadata": {},
     "output_type": "execute_result"
    }
   ],
   "source": [
    "real"
   ]
  },
  {
   "cell_type": "code",
   "execution_count": 388,
   "metadata": {},
   "outputs": [
    {
     "name": "stdout",
     "output_type": "stream",
     "text": [
      "                                 precision    recall  f1-score   support\n",
      "\n",
      "Brak występowania choroby serca       0.80      0.67      0.73         6\n",
      "     Występowanie choroby serca       0.60      0.75      0.67         4\n",
      "\n",
      "                      micro avg       0.70      0.70      0.70        10\n",
      "                      macro avg       0.70      0.71      0.70        10\n",
      "                   weighted avg       0.72      0.70      0.70        10\n",
      "\n",
      "              precision    recall  f1-score   support\n",
      "\n",
      "           1       0.80      0.67      0.73         6\n",
      "           2       0.60      0.75      0.67         4\n",
      "\n",
      "   micro avg       0.70      0.70      0.70        10\n",
      "   macro avg       0.70      0.71      0.70        10\n",
      "weighted avg       0.72      0.70      0.70        10\n",
      "\n"
     ]
    }
   ],
   "source": [
    "from sklearn.metrics import classification_report\n",
    "\n",
    "# target_names = ['Brak występowania choroby serca', 'Występowanie choroby serca',]\n",
    "print(classification_report(real, predicted, target_names=target_names))\n",
    "print(classification_report(real, predicted))\n"
   ]
  },
  {
   "cell_type": "markdown",
   "metadata": {},
   "source": [
    "Wnioski:\n",
    "\n",
    "Skuteczność (ACU) drzewa decyzyjnego wyniosła 70 %.\n",
    "\n",
    "Precyzja \n",
    "         - Jeśli klasfykator stwierdził, że rozpoznał osobę zdrową, prawidłowo wskazał 80 % przypadków\n",
    "         - Jeśli klasfykator stwierdził, że rozpoznał osobę chorą, prawidłowo wskazał 60 % przypadków\n",
    "\n",
    "Czułość\n",
    "        -  Ze wszystkich osób zdrowych klasyfikator prawidłowo rozpoznał 67 % przypadków\n",
    "        -  Ze wszystkich osób chorych klasyfikator prawidłowo rozpoznał 75 % przypadków\n",
    "\n"
   ]
  }
 ],
 "metadata": {
  "kernelspec": {
   "display_name": "Python 3",
   "language": "python",
   "name": "python3"
  },
  "language_info": {
   "codemirror_mode": {
    "name": "ipython",
    "version": 3
   },
   "file_extension": ".py",
   "mimetype": "text/x-python",
   "name": "python",
   "nbconvert_exporter": "python",
   "pygments_lexer": "ipython3",
   "version": "3.6.5"
  }
 },
 "nbformat": 4,
 "nbformat_minor": 2
}
